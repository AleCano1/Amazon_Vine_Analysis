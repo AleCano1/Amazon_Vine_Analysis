{
  "nbformat": 4,
  "nbformat_minor": 0,
  "metadata": {
    "colab": {
      "name": "Vine_Review_Analysis.ipynb",
      "provenance": [],
      "collapsed_sections": []
    },
    "kernelspec": {
      "name": "python3",
      "display_name": "Python 3"
    },
    "language_info": {
      "name": "python"
    }
  },
  "cells": [
    {
      "cell_type": "code",
      "execution_count": null,
      "metadata": {
        "colab": {
          "base_uri": "https://localhost:8080/"
        },
        "id": "c42YoudFiBQH",
        "outputId": "e058a9bb-44de-400c-8549-6bb2bbae4c3e"
      },
      "outputs": [
        {
          "output_type": "stream",
          "name": "stdout",
          "text": [
            "\r0% [Working]\r            \rGet:1 https://developer.download.nvidia.com/compute/cuda/repos/ubuntu1804/x86_64  InRelease [1,575 B]\n",
            "\r0% [Connecting to archive.ubuntu.com] [Connecting to security.ubuntu.com (185.1\r0% [Connecting to archive.ubuntu.com] [Connecting to security.ubuntu.com (185.1\r0% [1 InRelease gpgv 1,575 B] [Connecting to archive.ubuntu.com] [Waiting for h\r                                                                               \rHit:2 https://cloud.r-project.org/bin/linux/ubuntu bionic-cran40/ InRelease\n",
            "\r0% [1 InRelease gpgv 1,575 B] [Connecting to archive.ubuntu.com (91.189.91.38)]\r                                                                               \rHit:3 http://archive.ubuntu.com/ubuntu bionic InRelease\n",
            "Hit:4 http://archive.ubuntu.com/ubuntu bionic-updates InRelease\n",
            "Hit:5 http://archive.ubuntu.com/ubuntu bionic-backports InRelease\n",
            "Hit:6 http://security.ubuntu.com/ubuntu bionic-security InRelease\n",
            "Ign:7 https://developer.download.nvidia.com/compute/machine-learning/repos/ubuntu1804/x86_64  InRelease\n",
            "Hit:8 https://developer.download.nvidia.com/compute/machine-learning/repos/ubuntu1804/x86_64  Release\n",
            "Hit:9 http://ppa.launchpad.net/c2d4u.team/c2d4u4.0+/ubuntu bionic InRelease\n",
            "Err:1 https://developer.download.nvidia.com/compute/cuda/repos/ubuntu1804/x86_64  InRelease\n",
            "  The following signatures couldn't be verified because the public key is not available: NO_PUBKEY A4B469963BF863CC\n",
            "Hit:10 http://ppa.launchpad.net/cran/libgit2/ubuntu bionic InRelease\n",
            "Hit:11 http://ppa.launchpad.net/deadsnakes/ppa/ubuntu bionic InRelease\n",
            "Hit:12 http://ppa.launchpad.net/graphics-drivers/ppa/ubuntu bionic InRelease\n",
            "Reading package lists... Done\n",
            "W: GPG error: https://developer.download.nvidia.com/compute/cuda/repos/ubuntu1804/x86_64  InRelease: The following signatures couldn't be verified because the public key is not available: NO_PUBKEY A4B469963BF863CC\n",
            "E: The repository 'https://developer.download.nvidia.com/compute/cuda/repos/ubuntu1804/x86_64  InRelease' is no longer signed.\n",
            "N: Updating from such a repository can't be done securely, and is therefore disabled by default.\n",
            "N: See apt-secure(8) manpage for repository creation and user configuration details.\n"
          ]
        }
      ],
      "source": [
        "import os\n",
        "# Find the latest version of spark 3.0  from http://www.apache.org/dist/spark/ and enter as the spark version\n",
        "# For example:\n",
        "# spark_version = 'spark-3.0.3'\n",
        "spark_version = 'spark-3.0.3'\n",
        "os.environ['SPARK_VERSION']=spark_version\n",
        "\n",
        "# Install Spark and Java\n",
        "!apt-get update\n",
        "!apt-get install openjdk-11-jdk-headless -qq > /dev/null\n",
        "!wget -q http://www.apache.org/dist/spark/$SPARK_VERSION/$SPARK_VERSION-bin-hadoop2.7.tgz\n",
        "!tar xf $SPARK_VERSION-bin-hadoop2.7.tgz\n",
        "!pip install -q findspark\n",
        "\n",
        "# Set Environment Variables\n",
        "import os\n",
        "os.environ[\"JAVA_HOME\"] = \"/usr/lib/jvm/java-11-openjdk-amd64\"\n",
        "os.environ[\"SPARK_HOME\"] = f\"/content/{spark_version}-bin-hadoop2.7\"\n",
        "\n",
        "# Start a SparkSession\n",
        "import findspark\n",
        "findspark.init()"
      ]
    },
    {
      "cell_type": "code",
      "source": [
        "from pyspark.sql import SparkSession\n",
        "spark = SparkSession.builder.appName(\"M16-Amazon-Challenge-2\").getOrCreate()"
      ],
      "metadata": {
        "id": "maCaLyY8iqBg"
      },
      "execution_count": null,
      "outputs": []
    },
    {
      "cell_type": "code",
      "source": [
        "from pyspark import SparkFiles\n",
        "url = \"https://s3.amazonaws.com/amazon-reviews-pds/tsv/amazon_reviews_us_Jewelry_v1_00.tsv.gz\"\n",
        "spark.sparkContext.addFile(url)\n",
        "df = spark.read.option(\"encoding\", \"UTF-8\").csv(SparkFiles.get(\"\"), sep=\"\\t\", header=True, inferSchema=True)\n",
        "df.show()"
      ],
      "metadata": {
        "colab": {
          "base_uri": "https://localhost:8080/"
        },
        "id": "PRNB2kRJigmK",
        "outputId": "ec9d5cba-c214-4058-d495-3bb5be34723f"
      },
      "execution_count": null,
      "outputs": [
        {
          "output_type": "stream",
          "name": "stdout",
          "text": [
            "+-----------+-----------+--------------+----------+--------------+--------------------+----------------+-----------+-------------+-----------+----+-----------------+--------------------+--------------------+-----------+\n",
            "|marketplace|customer_id|     review_id|product_id|product_parent|       product_title|product_category|star_rating|helpful_votes|total_votes|vine|verified_purchase|     review_headline|         review_body|review_date|\n",
            "+-----------+-----------+--------------+----------+--------------+--------------------+----------------+-----------+-------------+-----------+----+-----------------+--------------------+--------------------+-----------+\n",
            "|         US|   50423057|R135Q3VZ4DQN5N|B00JWXFDMG|     657335467|Everbling Purple ...|         Jewelry|          5|            0|          0|   N|                Y|           Beauties!|so beautiful even...| 2015-08-31|\n",
            "|         US|   11262325|R2N0QQ6R4T7YRY|B00W5T1H9W|      26030170|925 Sterling Silv...|         Jewelry|          5|            0|          0|   N|                N|      Great product.|Great product.. I...| 2015-08-31|\n",
            "|         US|   27541121|R3N5JE5Y4T6W5M|B00M2L6KFY|     697845240|Sterling Silver C...|         Jewelry|          5|            0|          0|   N|                Y|Exactly as pictur...|Exactly as pictur...| 2015-08-31|\n",
            "|         US|    5350721|R2I150CX5IVY9Q|B0006SW2WU|     569859289|Surgical Stainles...|         Jewelry|          5|            0|          0|   N|                Y|          Five Stars|Love it. Fits gre...| 2015-08-31|\n",
            "|         US|   24484424|R1RM9ICOOA9MQ3|B009YPDW70|     332947422|Sterling Silver F...|         Jewelry|          5|            0|          0|   N|                Y|... a Mother's Da...|Got this as a Mot...| 2015-08-31|\n",
            "|         US|     457767|R2J2KMDL10UMSH|B00QGA8XZM|     424804582|CHOOSE YOUR COLOR...|         Jewelry|          5|            0|          0|   N|                Y|          Five Stars|I Love It Make Me...| 2015-08-31|\n",
            "|         US|   31009358|R3R9ZUFA4TB4FQ|B00L0N0E8E|     589441783|Metal Factory 925...|         Jewelry|          5|            0|          0|   N|                Y|          Five Stars|True to size, unique| 2015-08-31|\n",
            "|         US|    7034628|R3UQ8VAQN7R6WL|B00DMWQKWA|     517428445|niceEshop(TM)Clas...|         Jewelry|          5|            0|          0|   N|                Y|          Five Stars|This necklace is ...| 2015-08-31|\n",
            "|         US|   34608636|R1FXZ69C01JNQM|B00THLHAGA|     320313750|Genuine Natural B...|         Jewelry|          5|            0|          0|   N|                Y|          Five Stars|        just perfect| 2015-08-31|\n",
            "|         US|   44972687| RY36LB4OW0FFS|B00UXSEOHY|     589365488|MBOX Expandable A...|         Jewelry|          5|            0|          0|   N|                Y|          Five Stars|           Love it !| 2015-08-31|\n",
            "|         US|   16684508| R6PKS54PC6ZY2|B00XGRYGVS|     217045013|Set of 3 Nose Rin...|         Jewelry|          1|            4|          4|   N|                Y|I had high hopes ...|They didn't even ...| 2015-08-31|\n",
            "|         US|   23493178|R1LYSAH0IECVWB|B00AJ2VU8A|     972853757|3-row White A Gra...|         Jewelry|          5|            0|          0|   N|                Y|This is a real ni...|This is a real ni...| 2015-08-31|\n",
            "|         US|     108294|R1UN0IZI3XQ3E2|B00LE5Y100|     979375701|KONOV Mens Stainl...|         Jewelry|          5|            2|          3|   N|                Y|             AMAZING|This is a very co...| 2015-08-31|\n",
            "|         US|   25810742| RIKDXD8QGL99S|B013E0AOH6|     619592796|TEMEGO Jewelry Me...|         Jewelry|          5|            1|          1|   N|                Y|          Five Stars|Great quality for...| 2015-08-31|\n",
            "|         US|   12037665| RUZCQTXZVGUFH|B00XAWUP96|     783863439|Royal Blue/White ...|         Jewelry|          4|            1|          1|   N|                Y|A Little Smaller ...|I like the bracel...| 2015-08-31|\n",
            "|         US|   51793466|R35CD4IHO3RP9H|B00WD82F1O|     655270378|10-11mm Baroque F...|         Jewelry|          5|            1|          1|   N|                Y|Pretty and Versatile|This is pretty an...| 2015-08-31|\n",
            "|         US|     127508|R13YD66XC9221U|B00JP4XCSO|     592155747|Sankuwen® Fashion...|         Jewelry|          1|            0|          0|   N|                N|Don't get this li...|Don't get this li...| 2015-08-31|\n",
            "|         US|   38430946| RHWG4JRVDSEYY|B00PZSM384|     622179716|zjskin6688 store ...|         Jewelry|          3|            1|          1|   N|                Y|         Three Stars|Not what I expect...| 2015-08-31|\n",
            "|         US|   33684654|R3SPIKMJ5IWHX8|B00VLMW18K|      36759824|Scheppend Polymer...|         Jewelry|          4|            0|          0|   N|                Y|          Four Stars|Bought these for ...| 2015-08-31|\n",
            "|         US|    5068631| RS19ACU7KWWNE|B00U5LDBB4|     575109200|Horizontal Sidewa...|         Jewelry|          5|            1|          1|   N|                Y|          Five Stars|Pretty, and very ...| 2015-08-31|\n",
            "+-----------+-----------+--------------+----------+--------------+--------------------+----------------+-----------+-------------+-----------+----+-----------------+--------------------+--------------------+-----------+\n",
            "only showing top 20 rows\n",
            "\n"
          ]
        }
      ]
    },
    {
      "cell_type": "code",
      "source": [
        "# Create the vine_table. DataFrame\n",
        "vine_df = df.select([\"review_id\",\"star_rating\",\"helpful_votes\",\"total_votes\",\"vine\",\"verified_purchase\"])\n",
        "vine_df.show()"
      ],
      "metadata": {
        "colab": {
          "base_uri": "https://localhost:8080/"
        },
        "id": "e_Jw8RjTihSx",
        "outputId": "9307db3d-c306-423a-e402-0bab335850f4"
      },
      "execution_count": null,
      "outputs": [
        {
          "output_type": "stream",
          "name": "stdout",
          "text": [
            "+--------------+-----------+-------------+-----------+----+-----------------+\n",
            "|     review_id|star_rating|helpful_votes|total_votes|vine|verified_purchase|\n",
            "+--------------+-----------+-------------+-----------+----+-----------------+\n",
            "|R135Q3VZ4DQN5N|          5|            0|          0|   N|                Y|\n",
            "|R2N0QQ6R4T7YRY|          5|            0|          0|   N|                N|\n",
            "|R3N5JE5Y4T6W5M|          5|            0|          0|   N|                Y|\n",
            "|R2I150CX5IVY9Q|          5|            0|          0|   N|                Y|\n",
            "|R1RM9ICOOA9MQ3|          5|            0|          0|   N|                Y|\n",
            "|R2J2KMDL10UMSH|          5|            0|          0|   N|                Y|\n",
            "|R3R9ZUFA4TB4FQ|          5|            0|          0|   N|                Y|\n",
            "|R3UQ8VAQN7R6WL|          5|            0|          0|   N|                Y|\n",
            "|R1FXZ69C01JNQM|          5|            0|          0|   N|                Y|\n",
            "| RY36LB4OW0FFS|          5|            0|          0|   N|                Y|\n",
            "| R6PKS54PC6ZY2|          1|            4|          4|   N|                Y|\n",
            "|R1LYSAH0IECVWB|          5|            0|          0|   N|                Y|\n",
            "|R1UN0IZI3XQ3E2|          5|            2|          3|   N|                Y|\n",
            "| RIKDXD8QGL99S|          5|            1|          1|   N|                Y|\n",
            "| RUZCQTXZVGUFH|          4|            1|          1|   N|                Y|\n",
            "|R35CD4IHO3RP9H|          5|            1|          1|   N|                Y|\n",
            "|R13YD66XC9221U|          1|            0|          0|   N|                N|\n",
            "| RHWG4JRVDSEYY|          3|            1|          1|   N|                Y|\n",
            "|R3SPIKMJ5IWHX8|          4|            0|          0|   N|                Y|\n",
            "| RS19ACU7KWWNE|          5|            1|          1|   N|                Y|\n",
            "+--------------+-----------+-------------+-----------+----+-----------------+\n",
            "only showing top 20 rows\n",
            "\n"
          ]
        }
      ]
    },
    {
      "cell_type": "code",
      "source": [
        "#Review typeData\n",
        "vine_df"
      ],
      "metadata": {
        "colab": {
          "base_uri": "https://localhost:8080/"
        },
        "id": "hvWXhgSqmhZW",
        "outputId": "b645b4d0-3409-48db-a462-039827d56bb3"
      },
      "execution_count": null,
      "outputs": [
        {
          "output_type": "execute_result",
          "data": {
            "text/plain": [
              "DataFrame[review_id: string, star_rating: string, helpful_votes: int, total_votes: int, vine: string, verified_purchase: string]"
            ]
          },
          "metadata": {},
          "execution_count": 24
        }
      ]
    },
    {
      "cell_type": "code",
      "source": [
        "#Filter the data and create a new DataFrame to retrieve all the rows where the total_votes count is equal to or greater than 20.\n",
        "vine_df2 = df.filter(df.total_votes >= 20).show()"
      ],
      "metadata": {
        "colab": {
          "base_uri": "https://localhost:8080/"
        },
        "id": "5pj_hOAtjmFR",
        "outputId": "bb51bd4b-509a-43d0-815d-98e5feabbec7"
      },
      "execution_count": null,
      "outputs": [
        {
          "output_type": "stream",
          "name": "stdout",
          "text": [
            "+-----------+-----------+--------------+----------+--------------+--------------------+----------------+-----------+-------------+-----------+----+-----------------+--------------------+--------------------+-----------+\n",
            "|marketplace|customer_id|     review_id|product_id|product_parent|       product_title|product_category|star_rating|helpful_votes|total_votes|vine|verified_purchase|     review_headline|         review_body|review_date|\n",
            "+-----------+-----------+--------------+----------+--------------+--------------------+----------------+-----------+-------------+-----------+----+-----------------+--------------------+--------------------+-----------+\n",
            "|         US|   18238567|R16YC6SMGKA8SR|B00MD99R9G|     692935467|Fun Daisy New Des...|         Jewelry|          5|           23|         23|   N|                Y|Beautiful stateme...|This is the first...| 2015-08-31|\n",
            "|         US|   35346149| R5O4WE9UM60B0|B00Q8BYTAW|      48877050|Women's New Simpl...|         Jewelry|          1|           29|         29|   N|                Y|I did expect it t...|Let me preface th...| 2015-08-31|\n",
            "|         US|   41095424|R2EKRVCRC7U0IY|B00PJIPZGW|     677765845|Antique Brass Ton...|         Jewelry|          1|           22|         24|   N|                Y|            One Star|Poor quality!<br ...| 2015-08-31|\n",
            "|         US|    4039595|R2OKV47GETH0L7|B00VUTQVDK|     939458680|Jewelrieshop Stai...|         Jewelry|          5|           24|         24|   N|                Y|     Great ear studs|These are great. ...| 2015-08-31|\n",
            "|         US|   38319820| R36LII9IITE17|B00MB9YCDO|     367067706|ArRord Beautiful ...|         Jewelry|          1|           22|         24|   N|                Y|              AWFUL!|Took 4 weeks to a...| 2015-08-31|\n",
            "|         US|   18658991|R35VKNE16PFY0H|B00YFNZYDG|     670585095|Bracelets For Wom...|         Jewelry|          5|           22|         24|   N|                N|Luckily I found t...|[[VIDEOID:6e75766...| 2015-08-30|\n",
            "|         US|     421300|R3TG008LHHZZIN|B00FZOTLC4|     350810365|14k Yellow Gold B...|         Jewelry|          5|          123|        125|   N|                Y|    Sweet and simple|[[VIDEOID:66915b7...| 2015-08-30|\n",
            "|         US|    9330212|R2FYQBKCC1XG4M|B009P4G8U8|      80161480|Sterling Silver R...|         Jewelry|          5|           20|         20|   N|                Y|          Five Stars|Gorgeous!! Very s...| 2015-08-30|\n",
            "|         US|   14873596| R63PV336NI5X7|B00UDF11O6|     712133361|Fashion Brand 925...|         Jewelry|          1|           27|         28|   N|                Y|     Broken bracelet|The bracelet brok...| 2015-08-29|\n",
            "|         US|    1278386|R1R42WPHB5ZSWI|B007VFHOQ0|     201950929|Steampunk FIRE ne...|         Jewelry|          5|           51|         52|   N|                Y|Lovely, don't lis...|This is a gorgeou...| 2015-08-29|\n",
            "|         US|     156241| RXSS0QZJE1TEO|B00VNDYPSQ|     690721039|Fashion Jewelry B...|         Jewelry|          1|           35|         35|   N|                Y|            One Star|Buckle was very w...| 2015-08-29|\n",
            "|         US|    2659922| RGS9C5XKWVYP9|B00FBAR1X8|     293039249|10KT White Gold P...|         Jewelry|          1|           24|         24|   N|                Y| unfortunated defect|I was excited to ...| 2015-08-29|\n",
            "|         US|   24596251|R3R5BWMKH1EUIQ|B010QAMEFM|     673336713|CZ Crystal Leaves...|         Jewelry|          5|           26|         27|   N|                N|      Elegant design|Elegant design. I...| 2015-08-29|\n",
            "|         US|    6026413|R2KBDT7RGO1G86|B00BLRNZNK|     228968920|1.50 Carat Round ...|         Jewelry|          3|           33|         39|   N|                Y|It's a beautiful ...|It's a beautiful ...| 2015-08-29|\n",
            "|         US|   14287196|R2WA09RFYT69GB|B00KHWJEFS|     410889586|20 Pieces Plugs S...|         Jewelry|          5|           21|         22|   N|                Y|Insane price, fas...|These are great! ...| 2015-08-29|\n",
            "|         US|   34811153| RYNTUAMCHU3W4|B00UUQ6C5G|     455061130|Rinhoo Random Cha...|         Jewelry|          5|           22|         22|   N|                Y|    Absolutely great|I don't normally ...| 2015-08-29|\n",
            "|         US|   13165713|R3U5NCDM6NLHLC|B00GN3N4EM|     780515323|1.45 Carat (ctw) ...|         Jewelry|          5|           29|         30|   N|                Y|Great Price on a ...|It really is a be...| 2015-08-28|\n",
            "|         US|   45512891| R8708W8U0Z89A|B011W7X1PK|     721871970|Ring Resizer, Rin...|         Jewelry|          2|           37|         38|   N|                Y|I'll pay for inno...|Unlike the other ...| 2015-08-28|\n",
            "|         US|   19703321| RFT7R66D3SA54|B00P8I61NO|     848363259|18k Plated Stainl...|         Jewelry|          5|           23|         24|   N|                Y|              Great!|I ordered the ros...| 2015-08-28|\n",
            "|         US|   42190015|R1OI5TTOS49U8R|B00KR7MLHG|     380199757|Charm.L Grace Cla...|         Jewelry|          5|           33|         34|   N|                Y|                  😍|Stunning! Worth e...| 2015-08-28|\n",
            "+-----------+-----------+--------------+----------+--------------+--------------------+----------------+-----------+-------------+-----------+----+-----------------+--------------------+--------------------+-----------+\n",
            "only showing top 20 rows\n",
            "\n"
          ]
        }
      ]
    },
    {
      "cell_type": "code",
      "source": [
        "#create a new DataFrame to retrieve all the rows where the number of helpful_votes divided by total_votes is equal to or greater than 50%.\n",
        "vine_df3 =  vine_df2.filter((vine_df2.helpful_votes / vine_df2.total_votes) >= 0.5).show()"
      ],
      "metadata": {
        "colab": {
          "base_uri": "https://localhost:8080/"
        },
        "id": "OTBnczq8kqcI",
        "outputId": "8196d538-f93a-40b0-94bf-65b2dcf47c21"
      },
      "execution_count": null,
      "outputs": [
        {
          "output_type": "stream",
          "name": "stdout",
          "text": [
            "+-----------+-----------+--------------+----------+--------------+--------------------+----------------+-----------+-------------+-----------+----+-----------------+--------------------+--------------------+-----------+\n",
            "|marketplace|customer_id|     review_id|product_id|product_parent|       product_title|product_category|star_rating|helpful_votes|total_votes|vine|verified_purchase|     review_headline|         review_body|review_date|\n",
            "+-----------+-----------+--------------+----------+--------------+--------------------+----------------+-----------+-------------+-----------+----+-----------------+--------------------+--------------------+-----------+\n",
            "|         US|   18238567|R16YC6SMGKA8SR|B00MD99R9G|     692935467|Fun Daisy New Des...|         Jewelry|          5|           23|         23|   N|                Y|Beautiful stateme...|This is the first...| 2015-08-31|\n",
            "|         US|   35346149| R5O4WE9UM60B0|B00Q8BYTAW|      48877050|Women's New Simpl...|         Jewelry|          1|           29|         29|   N|                Y|I did expect it t...|Let me preface th...| 2015-08-31|\n",
            "|         US|   41095424|R2EKRVCRC7U0IY|B00PJIPZGW|     677765845|Antique Brass Ton...|         Jewelry|          1|           22|         24|   N|                Y|            One Star|Poor quality!<br ...| 2015-08-31|\n",
            "|         US|    4039595|R2OKV47GETH0L7|B00VUTQVDK|     939458680|Jewelrieshop Stai...|         Jewelry|          5|           24|         24|   N|                Y|     Great ear studs|These are great. ...| 2015-08-31|\n",
            "|         US|   38319820| R36LII9IITE17|B00MB9YCDO|     367067706|ArRord Beautiful ...|         Jewelry|          1|           22|         24|   N|                Y|              AWFUL!|Took 4 weeks to a...| 2015-08-31|\n",
            "|         US|   18658991|R35VKNE16PFY0H|B00YFNZYDG|     670585095|Bracelets For Wom...|         Jewelry|          5|           22|         24|   N|                N|Luckily I found t...|[[VIDEOID:6e75766...| 2015-08-30|\n",
            "|         US|     421300|R3TG008LHHZZIN|B00FZOTLC4|     350810365|14k Yellow Gold B...|         Jewelry|          5|          123|        125|   N|                Y|    Sweet and simple|[[VIDEOID:66915b7...| 2015-08-30|\n",
            "|         US|    9330212|R2FYQBKCC1XG4M|B009P4G8U8|      80161480|Sterling Silver R...|         Jewelry|          5|           20|         20|   N|                Y|          Five Stars|Gorgeous!! Very s...| 2015-08-30|\n",
            "|         US|   14873596| R63PV336NI5X7|B00UDF11O6|     712133361|Fashion Brand 925...|         Jewelry|          1|           27|         28|   N|                Y|     Broken bracelet|The bracelet brok...| 2015-08-29|\n",
            "|         US|    1278386|R1R42WPHB5ZSWI|B007VFHOQ0|     201950929|Steampunk FIRE ne...|         Jewelry|          5|           51|         52|   N|                Y|Lovely, don't lis...|This is a gorgeou...| 2015-08-29|\n",
            "|         US|     156241| RXSS0QZJE1TEO|B00VNDYPSQ|     690721039|Fashion Jewelry B...|         Jewelry|          1|           35|         35|   N|                Y|            One Star|Buckle was very w...| 2015-08-29|\n",
            "|         US|    2659922| RGS9C5XKWVYP9|B00FBAR1X8|     293039249|10KT White Gold P...|         Jewelry|          1|           24|         24|   N|                Y| unfortunated defect|I was excited to ...| 2015-08-29|\n",
            "|         US|   24596251|R3R5BWMKH1EUIQ|B010QAMEFM|     673336713|CZ Crystal Leaves...|         Jewelry|          5|           26|         27|   N|                N|      Elegant design|Elegant design. I...| 2015-08-29|\n",
            "|         US|    6026413|R2KBDT7RGO1G86|B00BLRNZNK|     228968920|1.50 Carat Round ...|         Jewelry|          3|           33|         39|   N|                Y|It's a beautiful ...|It's a beautiful ...| 2015-08-29|\n",
            "|         US|   14287196|R2WA09RFYT69GB|B00KHWJEFS|     410889586|20 Pieces Plugs S...|         Jewelry|          5|           21|         22|   N|                Y|Insane price, fas...|These are great! ...| 2015-08-29|\n",
            "|         US|   34811153| RYNTUAMCHU3W4|B00UUQ6C5G|     455061130|Rinhoo Random Cha...|         Jewelry|          5|           22|         22|   N|                Y|    Absolutely great|I don't normally ...| 2015-08-29|\n",
            "|         US|   13165713|R3U5NCDM6NLHLC|B00GN3N4EM|     780515323|1.45 Carat (ctw) ...|         Jewelry|          5|           29|         30|   N|                Y|Great Price on a ...|It really is a be...| 2015-08-28|\n",
            "|         US|   45512891| R8708W8U0Z89A|B011W7X1PK|     721871970|Ring Resizer, Rin...|         Jewelry|          2|           37|         38|   N|                Y|I'll pay for inno...|Unlike the other ...| 2015-08-28|\n",
            "|         US|   19703321| RFT7R66D3SA54|B00P8I61NO|     848363259|18k Plated Stainl...|         Jewelry|          5|           23|         24|   N|                Y|              Great!|I ordered the ros...| 2015-08-28|\n",
            "|         US|   42190015|R1OI5TTOS49U8R|B00KR7MLHG|     380199757|Charm.L Grace Cla...|         Jewelry|          5|           33|         34|   N|                Y|                  😍|Stunning! Worth e...| 2015-08-28|\n",
            "+-----------+-----------+--------------+----------+--------------+--------------------+----------------+-----------+-------------+-----------+----+-----------------+--------------------+--------------------+-----------+\n",
            "only showing top 20 rows\n",
            "\n"
          ]
        }
      ]
    },
    {
      "cell_type": "code",
      "source": [
        "#Load in a sql function to use columns\n",
        "from pyspark.sql.functions import col\n",
        "#retrieves all the rows where a review was written as part of the Vine program (paid)\n",
        "vine_df4 = vine_df3.filter(col(\"vine\")=='Y')\n",
        "vine_df4.show() "
      ],
      "metadata": {
        "colab": {
          "base_uri": "https://localhost:8080/"
        },
        "id": "Sy9XfENrvSo7",
        "outputId": "5a67f992-6833-4434-d9bc-3d10b6b07da5"
      },
      "execution_count": null,
      "outputs": [
        {
          "output_type": "stream",
          "name": "stdout",
          "text": [
            "+-----------+-----------+--------------+----------+--------------+--------------------+----------------+-----------+-------------+-----------+----+-----------------+--------------------+--------------------+-----------+\n",
            "|marketplace|customer_id|     review_id|product_id|product_parent|       product_title|product_category|star_rating|helpful_votes|total_votes|vine|verified_purchase|     review_headline|         review_body|review_date|\n",
            "+-----------+-----------+--------------+----------+--------------+--------------------+----------------+-----------+-------------+-----------+----+-----------------+--------------------+--------------------+-----------+\n",
            "|         US|   51635935|R15PXA9XU9ZKSU|B00TDNZV4A|     280424829|Sterling Silver C...|         Jewelry|          4|           29|         29|   Y|                N|So classy and gor...|You can wear thes...| 2015-05-09|\n",
            "|         US|   52833354|R2LJ4QYQ4PYDEH|B00TDNZUYG|     280424829|Sterling Silver C...|         Jewelry|          5|           24|         26|   Y|                N|           Stunning!|I was very pleasa...| 2015-05-06|\n",
            "|         US|   28779404|R2PJWWQZ37WCIC|B00S5VKNIA|     940533137|Sterling Silver F...|         Jewelry|          5|           95|         96|   Y|                N| Perfect for Gifting|These earrings co...| 2015-03-08|\n",
            "|         US|   52539517|R33G2VDKRN2USY|B00S5VKNIA|     940533137|Sterling Silver F...|         Jewelry|          5|           21|         21|   Y|                N|beautiful texturi...|I ordered these e...| 2015-03-08|\n",
            "|         US|   16216813|R13R4X37T2U50A|B00M0NZKSC|     325259179|Sterling Silver M...|         Jewelry|          4|           52|         57|   Y|                N|        A neat idea!|This pendant is v...| 2014-10-17|\n",
            "|         US|   52121266|R1X1J2NAQ39DF6|B00M0NZKSC|     325259179|Sterling Silver M...|         Jewelry|          4|           29|         34|   Y|                N| A breath of spring!|This is a really ...| 2014-10-15|\n",
            "|         US|   41073142|R2UV5XHFNMPXOX|B00KL3SJKE|     382870358|Sterling Silver A...|         Jewelry|          5|           60|         61|   Y|                N|beautiful, dainty...|This is a very pr...| 2014-07-26|\n",
            "|         US|   30526933|R31V08BCC9X3MF|B00AEL5UQ4|     529722536|Silver Tone Metal...|         Jewelry|          5|           18|         22|   Y|                N|          So pretty!|I absolutely love...| 2013-12-25|\n",
            "|         US|   48198113|R2G00QWTYW9N2G|B00AEL5UQ4|     529722536|Silver Tone Metal...|         Jewelry|          5|           86|         91|   Y|                N| Inexpensive Pandora|I have dropped lo...| 2013-12-22|\n",
            "|         US|   30377162| RL8H3NKKP989J|B00AEL5UQ4|     529722536|Silver Tone Metal...|         Jewelry|          5|           30|         34|   Y|                N|Cool version of a...|The newest rage i...| 2013-12-19|\n",
            "|         US|   28327886| RZ65QBOJ8ZNRN|B00E1ZXXAE|     371647383|Myia Passiello \"T...|         Jewelry|          4|           19|         22|   Y|                N|Nice and shiny; L...|This bracelet is ...| 2013-10-27|\n",
            "|         US|   12532175| RDZBWH5MFEQY1|B00E1ZXXAE|     371647383|Myia Passiello \"T...|         Jewelry|          5|           18|         22|   Y|                N|Nice sparkles for...|I love diamonds. ...| 2013-10-25|\n",
            "|         US|   16013665|R24SU7KP57HE8L|B00E1ZXX3G|     991918901|Myia Passiello Es...|         Jewelry|          4|           25|         26|   Y|                N|     Sparkly Twinkly|This is an attrac...| 2013-10-24|\n",
            "|         US|   52801456| RV3V9VIC29R8S|B002KMIQ4I|     239052079|18k Yellow Gold-P...|         Jewelry|          2|           66|         68|   Y|                N|    Check the stones|This pendant pres...| 2012-06-29|\n",
            "|         US|   18642523|R31AR3XSFSHY1B|B004RE85M0|     653601016|10k White Gold Pr...|         Jewelry|          4|           33|         35|   Y|                N|Pretty Little Ear...|At one-fifth cara...| 2012-06-27|\n",
            "|         US|   14342177|R3VWAKQ4JXGE55|B005NGUU7E|     386585934|Sterling Silver P...|         Jewelry|          5|           33|         34|   Y|                N|a picture is not ...|I agree with a pr...| 2012-06-18|\n",
            "|         US|   15399984| RNZ2BP0EHN7IK|B005NGUU7E|     386585934|Sterling Silver P...|         Jewelry|          5|           20|         20|   Y|                N|Swarovski descrip...|This is a lovely ...| 2012-06-09|\n",
            "|         US|   42638584| RXKITVQ3MN3PS|B007PCTK2U|     261242993|Sterling Silver 4...|         Jewelry|          4|           22|         23|   Y|                N|Beautiful inside/...|Ha! I feel like a...| 2012-05-31|\n",
            "|         US|   52607619|R3TZE1OYDVZPRD|B006GZOYD2|     957426009|Genuine Gemstone ...|         Jewelry|          5|           23|         24|   Y|                N|Really beautiful ...|I have purchased ...| 2012-02-29|\n",
            "|         US|   25730154|R3FO353G2ET17M|B005ITGCQO|      76996197|Sterling Silver R...|         Jewelry|          4|           23|         24|   Y|                N|Can You Tell That...|I didn't know wha...| 2011-10-01|\n",
            "+-----------+-----------+--------------+----------+--------------+--------------------+----------------+-----------+-------------+-----------+----+-----------------+--------------------+--------------------+-----------+\n",
            "only showing top 20 rows\n",
            "\n"
          ]
        }
      ]
    },
    {
      "cell_type": "code",
      "source": [
        "#retrieves all the rows where a review was written as part of the Vine program (paid)\n",
        "vine_df5 = vine_df3.filter(col(\"vine\")=='N').show()"
      ],
      "metadata": {
        "colab": {
          "base_uri": "https://localhost:8080/"
        },
        "id": "QC3b5f41x_eK",
        "outputId": "1a2651be-e48b-40b7-c810-e6b323e7cea4"
      },
      "execution_count": null,
      "outputs": [
        {
          "output_type": "stream",
          "name": "stdout",
          "text": [
            "+-----------+-----------+--------------+----------+--------------+--------------------+----------------+-----------+-------------+-----------+----+-----------------+--------------------+--------------------+-----------+\n",
            "|marketplace|customer_id|     review_id|product_id|product_parent|       product_title|product_category|star_rating|helpful_votes|total_votes|vine|verified_purchase|     review_headline|         review_body|review_date|\n",
            "+-----------+-----------+--------------+----------+--------------+--------------------+----------------+-----------+-------------+-----------+----+-----------------+--------------------+--------------------+-----------+\n",
            "|         US|   18238567|R16YC6SMGKA8SR|B00MD99R9G|     692935467|Fun Daisy New Des...|         Jewelry|          5|           23|         23|   N|                Y|Beautiful stateme...|This is the first...| 2015-08-31|\n",
            "|         US|   35346149| R5O4WE9UM60B0|B00Q8BYTAW|      48877050|Women's New Simpl...|         Jewelry|          1|           29|         29|   N|                Y|I did expect it t...|Let me preface th...| 2015-08-31|\n",
            "|         US|   41095424|R2EKRVCRC7U0IY|B00PJIPZGW|     677765845|Antique Brass Ton...|         Jewelry|          1|           22|         24|   N|                Y|            One Star|Poor quality!<br ...| 2015-08-31|\n",
            "|         US|    4039595|R2OKV47GETH0L7|B00VUTQVDK|     939458680|Jewelrieshop Stai...|         Jewelry|          5|           24|         24|   N|                Y|     Great ear studs|These are great. ...| 2015-08-31|\n",
            "|         US|   38319820| R36LII9IITE17|B00MB9YCDO|     367067706|ArRord Beautiful ...|         Jewelry|          1|           22|         24|   N|                Y|              AWFUL!|Took 4 weeks to a...| 2015-08-31|\n",
            "|         US|   18658991|R35VKNE16PFY0H|B00YFNZYDG|     670585095|Bracelets For Wom...|         Jewelry|          5|           22|         24|   N|                N|Luckily I found t...|[[VIDEOID:6e75766...| 2015-08-30|\n",
            "|         US|     421300|R3TG008LHHZZIN|B00FZOTLC4|     350810365|14k Yellow Gold B...|         Jewelry|          5|          123|        125|   N|                Y|    Sweet and simple|[[VIDEOID:66915b7...| 2015-08-30|\n",
            "|         US|    9330212|R2FYQBKCC1XG4M|B009P4G8U8|      80161480|Sterling Silver R...|         Jewelry|          5|           20|         20|   N|                Y|          Five Stars|Gorgeous!! Very s...| 2015-08-30|\n",
            "|         US|   14873596| R63PV336NI5X7|B00UDF11O6|     712133361|Fashion Brand 925...|         Jewelry|          1|           27|         28|   N|                Y|     Broken bracelet|The bracelet brok...| 2015-08-29|\n",
            "|         US|    1278386|R1R42WPHB5ZSWI|B007VFHOQ0|     201950929|Steampunk FIRE ne...|         Jewelry|          5|           51|         52|   N|                Y|Lovely, don't lis...|This is a gorgeou...| 2015-08-29|\n",
            "|         US|     156241| RXSS0QZJE1TEO|B00VNDYPSQ|     690721039|Fashion Jewelry B...|         Jewelry|          1|           35|         35|   N|                Y|            One Star|Buckle was very w...| 2015-08-29|\n",
            "|         US|    2659922| RGS9C5XKWVYP9|B00FBAR1X8|     293039249|10KT White Gold P...|         Jewelry|          1|           24|         24|   N|                Y| unfortunated defect|I was excited to ...| 2015-08-29|\n",
            "|         US|   24596251|R3R5BWMKH1EUIQ|B010QAMEFM|     673336713|CZ Crystal Leaves...|         Jewelry|          5|           26|         27|   N|                N|      Elegant design|Elegant design. I...| 2015-08-29|\n",
            "|         US|    6026413|R2KBDT7RGO1G86|B00BLRNZNK|     228968920|1.50 Carat Round ...|         Jewelry|          3|           33|         39|   N|                Y|It's a beautiful ...|It's a beautiful ...| 2015-08-29|\n",
            "|         US|   14287196|R2WA09RFYT69GB|B00KHWJEFS|     410889586|20 Pieces Plugs S...|         Jewelry|          5|           21|         22|   N|                Y|Insane price, fas...|These are great! ...| 2015-08-29|\n",
            "|         US|   34811153| RYNTUAMCHU3W4|B00UUQ6C5G|     455061130|Rinhoo Random Cha...|         Jewelry|          5|           22|         22|   N|                Y|    Absolutely great|I don't normally ...| 2015-08-29|\n",
            "|         US|   13165713|R3U5NCDM6NLHLC|B00GN3N4EM|     780515323|1.45 Carat (ctw) ...|         Jewelry|          5|           29|         30|   N|                Y|Great Price on a ...|It really is a be...| 2015-08-28|\n",
            "|         US|   45512891| R8708W8U0Z89A|B011W7X1PK|     721871970|Ring Resizer, Rin...|         Jewelry|          2|           37|         38|   N|                Y|I'll pay for inno...|Unlike the other ...| 2015-08-28|\n",
            "|         US|   19703321| RFT7R66D3SA54|B00P8I61NO|     848363259|18k Plated Stainl...|         Jewelry|          5|           23|         24|   N|                Y|              Great!|I ordered the ros...| 2015-08-28|\n",
            "|         US|   42190015|R1OI5TTOS49U8R|B00KR7MLHG|     380199757|Charm.L Grace Cla...|         Jewelry|          5|           33|         34|   N|                Y|                  😍|Stunning! Worth e...| 2015-08-28|\n",
            "+-----------+-----------+--------------+----------+--------------+--------------------+----------------+-----------+-------------+-----------+----+-----------------+--------------------+--------------------+-----------+\n",
            "only showing top 20 rows\n",
            "\n"
          ]
        }
      ]
    },
    {
      "cell_type": "code",
      "source": [
        "#Total number of reviews vine program paid\n",
        "Total_Reviews_paid =  vine_df4.count()\n",
        "Total_Reviews_paid "
      ],
      "metadata": {
        "colab": {
          "base_uri": "https://localhost:8080/"
        },
        "id": "G2VYnLyqzM1z",
        "outputId": "3dd14175-eecb-4779-ec48-581a21eecb79"
      },
      "execution_count": null,
      "outputs": [
        {
          "output_type": "execute_result",
          "data": {
            "text/plain": [
              "21"
            ]
          },
          "metadata": {},
          "execution_count": 61
        }
      ]
    },
    {
      "cell_type": "code",
      "source": [
        "#Total number of reviews vine program unpaid\n",
        "Total_Reviews_unpaid =  vine_df5.count()\n",
        "Total_Reviews_unpaid"
      ],
      "metadata": {
        "colab": {
          "base_uri": "https://localhost:8080/"
        },
        "id": "d-jpM-iyzngQ",
        "outputId": "f31a9920-5474-44d6-84d2-b8f4d2956bb6"
      },
      "execution_count": null,
      "outputs": [
        {
          "output_type": "execute_result",
          "data": {
            "text/plain": [
              "7689"
            ]
          },
          "metadata": {},
          "execution_count": 68
        }
      ]
    },
    {
      "cell_type": "code",
      "source": [
        "#Total number of 5 star-Review vine program paid\n",
        "Total_StarReview_paid = vine_df4.where(vine_df4.star_rating ==5).count()\n",
        "Total_StarReview_paid"
      ],
      "metadata": {
        "colab": {
          "base_uri": "https://localhost:8080/"
        },
        "id": "wpS6t7OJz18M",
        "outputId": "e97296a8-738e-45c6-91c0-ee2ab2ab0105"
      },
      "execution_count": null,
      "outputs": [
        {
          "output_type": "execute_result",
          "data": {
            "text/plain": [
              "11"
            ]
          },
          "metadata": {},
          "execution_count": 62
        }
      ]
    },
    {
      "cell_type": "code",
      "source": [
        "#Total number of 5 star-Review vine program unpaid\n",
        "Total_StarReview_unpaid= vine_df5.where(vine_df5.star_rating ==5).count()\n",
        "Total_StarReview_unpaid"
      ],
      "metadata": {
        "colab": {
          "base_uri": "https://localhost:8080/"
        },
        "id": "Zm1zS5vCz2wQ",
        "outputId": "a83b47d2-93a5-4ee5-d8f5-28230ffececd"
      },
      "execution_count": null,
      "outputs": [
        {
          "output_type": "execute_result",
          "data": {
            "text/plain": [
              "4444"
            ]
          },
          "metadata": {},
          "execution_count": 69
        }
      ]
    },
    {
      "cell_type": "code",
      "source": [
        "#Percentage of 5 star-Review vine program paid\n",
        "percentageSR_paid = (Total_StarReview_paid / Total_Reviews_paid) *100\n",
        "percentageSR_paid"
      ],
      "metadata": {
        "colab": {
          "base_uri": "https://localhost:8080/"
        },
        "id": "Bx4hmg-80ACd",
        "outputId": "3e3b50a2-0628-4cf8-8c2a-ef67747f85e4"
      },
      "execution_count": null,
      "outputs": [
        {
          "output_type": "execute_result",
          "data": {
            "text/plain": [
              "52.38095238095239"
            ]
          },
          "metadata": {},
          "execution_count": 60
        }
      ]
    },
    {
      "cell_type": "code",
      "source": [
        "#Percentage of 5 star-Review vine program unpaid\n",
        "percentageSR_unpaid = (Total_StarReview_unpaid / Total_Reviews_unpaid ) * 100\n",
        "percentageSR_unpaid"
      ],
      "metadata": {
        "colab": {
          "base_uri": "https://localhost:8080/"
        },
        "id": "MdZ7Msty0AUR",
        "outputId": "97731941-70b4-4072-bfed-0568efa1cbba"
      },
      "execution_count": null,
      "outputs": [
        {
          "output_type": "execute_result",
          "data": {
            "text/plain": [
              "57.79685264663805"
            ]
          },
          "metadata": {},
          "execution_count": 67
        }
      ]
    },
    {
      "cell_type": "code",
      "source": [
        ""
      ],
      "metadata": {
        "id": "RGc6SWv7ztHT"
      },
      "execution_count": null,
      "outputs": []
    }
  ]
}